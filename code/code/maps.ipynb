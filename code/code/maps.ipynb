{
 "cells": [
  {
   "cell_type": "code",
   "execution_count": 1,
   "metadata": {},
   "outputs": [],
   "source": [
    "import numpy as np\n",
    "from scipy.special import binom\n",
    "import matplotlib.pyplot as plt\n",
    "bernstein = lambda n, k, t: binom(n,k)* t**k * (1.-t)**(n-k)\n",
    "def bezier(points, num=200):\n",
    "    N = len(points)\n",
    "    t = np.linspace(0, 1, num=num)\n",
    "    curve = np.zeros((num, 2))\n",
    "    for i in range(N):\n",
    "        curve += np.outer(bernstein(N - 1, i, t), points[i])\n",
    "    return curve\n",
    "class Segment():\n",
    "    def __init__(self, p1, p2, angle1, angle2, **kw):\n",
    "        self.p1 = p1; self.p2 = p2\n",
    "        self.angle1 = angle1; self.angle2 = angle2\n",
    "        self.numpoints = kw.get(\"numpoints\", 100)\n",
    "        r = kw.get(\"r\", 0.3)\n",
    "        d = np.sqrt(np.sum((self.p2-self.p1)**2))\n",
    "        self.r = r*d\n",
    "        self.p = np.zeros((4,2))\n",
    "        self.p[0,:] = self.p1[:]\n",
    "        self.p[3,:] = self.p2[:]\n",
    "        self.calc_intermediate_points(self.r)\n",
    "    def calc_intermediate_points(self,r):\n",
    "        self.p[1,:] = self.p1 + np.array([self.r*np.cos(self.angle1),\n",
    "                                    self.r*np.sin(self.angle1)])\n",
    "        self.p[2,:] = self.p2 + np.array([self.r*np.cos(self.angle2+np.pi),\n",
    "                                    self.r*np.sin(self.angle2+np.pi)])\n",
    "        self.curve = bezier(self.p,self.numpoints)\n",
    "def get_curve(points, **kw):\n",
    "    segments = []\n",
    "    for i in range(len(points)-1):\n",
    "        seg = Segment(points[i,:2], points[i+1,:2], points[i,2],points[i+1,2],**kw)\n",
    "        segments.append(seg)\n",
    "    curve = np.concatenate([s.curve for s in segments])\n",
    "    return segments, curve\n",
    "def ccw_sort(p):\n",
    "    d = p-np.mean(p,axis=0)\n",
    "    s = np.arctan2(d[:,0], d[:,1])\n",
    "    return p[np.argsort(s),:]\n",
    "def get_bezier_curve(a, rad=0.2, edgy=0):\n",
    "    \"\"\" given an array of points *a*, create a curve through\n",
    "    those points. \n",
    "    *rad* is a number between 0 and 1 to steer the distance of\n",
    "          control points.\n",
    "    *edgy* is a parameter which controls how \"edgy\" the curve is,\n",
    "           edgy=0 is smoothest.\"\"\"\n",
    "    p = np.arctan(edgy)/np.pi+.5\n",
    "    a = ccw_sort(a)\n",
    "    a = np.append(a, np.atleast_2d(a[0,:]), axis=0)\n",
    "    d = np.diff(a, axis=0)\n",
    "    ang = np.arctan2(d[:,1],d[:,0])\n",
    "    f = lambda ang : (ang>=0)*ang + (ang<0)*(ang+2*np.pi)\n",
    "    ang = f(ang)\n",
    "    ang1 = ang\n",
    "    ang2 = np.roll(ang,1)\n",
    "    ang = p*ang1 + (1-p)*ang2 + (np.abs(ang2-ang1) > np.pi )*np.pi\n",
    "    ang = np.append(ang, [ang[0]])\n",
    "    a = np.append(a, np.atleast_2d(ang).T, axis=1)\n",
    "    s, c = get_curve(a, r=rad, method=\"var\")\n",
    "    x,y = c.T\n",
    "    return x,y, a\n",
    "def get_random_points(n=5, scale=0.8, mindst=None, rec=0):\n",
    "    \"\"\" create n random points in the unit square, which are *mindst*\n",
    "    apart, then scale them.\"\"\"\n",
    "    mindst = mindst or .7/n\n",
    "    a = np.random.rand(n,2)\n",
    "    d = np.sqrt(np.sum(np.diff(ccw_sort(a), axis=0), axis=1)**2)\n",
    "    if np.all(d >= mindst) or rec>=200:\n",
    "        return a*scale\n",
    "    else:\n",
    "        return get_random_points(n=n, scale=scale, mindst=mindst, rec=rec+1)\n"
   ]
  },
  {
   "cell_type": "code",
   "execution_count": 51,
   "metadata": {},
   "outputs": [
    {
     "data": {
      "image/png": "[encoded data removed]",
      "text/plain": [
       "<Figure size 432x288 with 1 Axes>"
      ]
     },
     "metadata": {
      "needs_background": "light"
     },
     "output_type": "display_data"
    }
   ],
   "source": [
    "fig, ax = plt.subplots()\n",
    "ax.set_aspect(\"equal\")\n",
    "rad = 0.2\n",
    "edgy = 0.05\n",
    "for c in np.array([[0,0], [0,1], [1,0], [1,1]]):\n",
    "    a = get_random_points(n=7, scale=1) + c\n",
    "    x,y, _ = get_bezier_curve(a,rad=rad, edgy=edgy)\n",
    "    plt.plot(x,y)\n",
    "    if(True): break\n",
    "plt.show()"
   ]
  },
  {
   "cell_type": "code",
   "execution_count": 52,
   "metadata": {},
   "outputs": [],
   "source": [
    "x_init = x\n",
    "y_init = y"
   ]
  },
  {
   "cell_type": "code",
   "execution_count": 54,
   "metadata": {},
   "outputs": [
    {
     "data": {
      "text/plain": [
       "[<matplotlib.lines.Line2D at 0x258131e8760>]"
      ]
     },
     "execution_count": 54,
     "metadata": {},
     "output_type": "execute_result"
    },
    {
     "data": {
      "image/png": "[encoded data removed]",
      "text/plain": [
       "<Figure size 432x288 with 1 Axes>"
      ]
     },
     "metadata": {
      "needs_background": "light"
     },
     "output_type": "display_data"
    }
   ],
   "source": [
    "a = 0\n",
    "b = 1\n",
    "\n",
    "# Target range [c, d]\n",
    "c = -40\n",
    "d = 40\n",
    "\n",
    "# Generate some example points\n",
    "\n",
    "# Map the points to the target range\n",
    "x = ((x_init - a) * (d - c) / (b - a)) + c\n",
    "\n",
    "a = 0\n",
    "b = 1\n",
    "\n",
    "# Target range [c, d]\n",
    "c = 0\n",
    "d = 80\n",
    "\n",
    "# Generate some example points\n",
    "\n",
    "# Map the points to the target range\n",
    "y = ((y_init - a) * (d - c) / (b - a)) + c\n",
    "\n",
    "plt.plot(x,y)\n",
    "#plt.plot(c1[:,0], c1[:,1])"
   ]
  },
  {
   "cell_type": "code",
   "execution_count": 55,
   "metadata": {},
   "outputs": [
    {
     "data": {
      "text/plain": [
       "(200, 2)"
      ]
     },
     "execution_count": 55,
     "metadata": {},
     "output_type": "execute_result"
    }
   ],
   "source": [
    "c1 = []\n",
    "for i in range(200):\n",
    "    c1.append(np.array([x[i], y[i] + 10]))\n",
    "\n",
    "c1 = np.array(c1)\n",
    "c1.shape\n"
   ]
  },
  {
   "cell_type": "code",
   "execution_count": 66,
   "metadata": {},
   "outputs": [
    {
     "data": {
      "text/plain": [
       "[<matplotlib.lines.Line2D at 0x2581373c490>]"
      ]
     },
     "execution_count": 66,
     "metadata": {},
     "output_type": "execute_result"
    },
    {
     "data": {
      "image/png": "[encoded data removed]",
      "text/plain": [
       "<Figure size 432x288 with 1 Axes>"
      ]
     },
     "metadata": {
      "needs_background": "light"
     },
     "output_type": "display_data"
    }
   ],
   "source": [
    "center_x = np.mean(x)\n",
    "center_y = np.mean(y)\n",
    "\n",
    "# Set the scaling factor\n",
    "scaling_factor = 1.5 # Adjust this value to control the expansion\n",
    "\n",
    "# Scale each point with respect to the center\n",
    "x_out = center_x + 0.85*scaling_factor * (x - center_x)\n",
    "y_out = center_y - 8 + 1.2*scaling_factor * (y - center_y)\n",
    "\n",
    "\n",
    "xx = np.zeros(10)\n",
    "for i in range(10):\n",
    "    xx[i] = 20 + 3*i\n",
    "yy = np.zeros(10)\n",
    "for i in range(10):\n",
    "    yy[i] = -20\n",
    "plt.plot(x,y)\n",
    "plt.plot(x_out,y_out)\n",
    "plt.plot(xx, yy)"
   ]
  },
  {
   "cell_type": "code",
   "execution_count": 77,
   "metadata": {},
   "outputs": [
    {
     "data": {
      "text/plain": [
       "[<matplotlib.lines.Line2D at 0x2581537b310>]"
      ]
     },
     "execution_count": 77,
     "metadata": {},
     "output_type": "execute_result"
    },
    {
     "data": {
      "image/png": "[encoded data removed]",
      "text/plain": [
       "<Figure size 432x288 with 1 Axes>"
      ]
     },
     "metadata": {
      "needs_background": "light"
     },
     "output_type": "display_data"
    }
   ],
   "source": [
    "c1 = np.zeros((700,2))\n",
    "c1[:, 0] = x\n",
    "c1[:,1] = y\n",
    "c2 = np.zeros((700,2))\n",
    "c2[:, 0] = x_out\n",
    "c2[:,1] = y_out\n",
    "c2 = list(c2)\n",
    "c1 = list(c1)\n",
    "for i in range(10):\n",
    "    c2.append(np.array([xx[i], yy[i]]))\n",
    "    c1.append(np.array([0, -20]))\n",
    "\n",
    "c1 = np.array(c1)\n",
    "c2 = np.array(c2)\n",
    "\n",
    "cones = np.concatenate([c1,c2])\n",
    "\n",
    "cones = cones[cones[:, 0].argsort()]\n",
    "c1 = c1[c1[:, 0].argsort()]\n",
    "c2 = c2[c2[:, 0].argsort()]\n",
    "\n",
    "plt.plot(cones[:, 0], cones[:, 1], marker='o', linestyle='None', markersize=0.5)\n",
    "plt.plot(0, 5, marker='o', linestyle='None', markersize=8)"
   ]
  },
  {
   "cell_type": "code",
   "execution_count": 78,
   "metadata": {},
   "outputs": [],
   "source": [
    "import importlib\n",
    "imported_module1 = importlib.import_module(\"dynamic_bicycle_model\")\n",
    "importlib.reload(imported_module1)\n",
    "imported_module2 = importlib.import_module(\"kinematic_bicycle_model\")\n",
    "importlib.reload(imported_module2)\n",
    "imported_module3 = importlib.import_module(\"MPPI_K\")\n",
    "importlib.reload(imported_module3)\n",
    "imported_module4 = importlib.import_module(\"MPPI_D\")\n",
    "importlib.reload(imported_module4)\n",
    "\n",
    "import numpy as np\n",
    "import matplotlib.pyplot as plt\n",
    "from dynamic_bicycle_model import DBM_Vehicle\n",
    "from MPPI_K import MPPI_Kinematic\n",
    "from MPPI_D import MPPI_Dynamic\n",
    "from kinematic_bicycle_model import KBM_Vehicle"
   ]
  },
  {
   "cell_type": "code",
   "execution_count": 79,
   "metadata": {},
   "outputs": [
    {
     "name": "stdout",
     "output_type": "stream",
     "text": [
      "[INFO] delta_t : 0.05[s] , sim_steps : 600[steps], total_sim_time : 30.00[s]\n"
     ]
    },
    {
     "data": {
      "image/png": "[encoded data removed]",
      "text/plain": [
       "<Figure size 432x288 with 1 Axes>"
      ]
     },
     "metadata": {
      "needs_background": "light"
     },
     "output_type": "display_data"
    },
    {
     "name": "stdout",
     "output_type": "stream",
     "text": [
      "Time: 0.00[s], x=+0.000[m], y=+5.000[m], yaw=+0.000[rad], vx=+5.000[m/s], vy=+0.000[m/s], steer= -0.21[rad], accel= +0.37[m/s^2]\n",
      "Time: 0.05[s], x=+0.250[m], y=+5.000[m], yaw=+0.000[rad], vx=+4.996[m/s], vy=-0.104[m/s], steer= -0.23[rad], accel= +0.63[m/s^2]\n",
      "Time: 0.10[s], x=+0.500[m], y=+4.995[m], yaw=-0.004[rad], vx=+5.007[m/s], vy=-0.177[m/s], steer= -0.26[rad], accel= +0.74[m/s^2]\n",
      "Time: 0.15[s], x=+0.750[m], y=+4.985[m], yaw=-0.013[rad], vx=+5.021[m/s], vy=-0.235[m/s], steer= -0.36[rad], accel= +0.96[m/s^2]\n",
      "Time: 0.20[s], x=+1.001[m], y=+4.970[m], yaw=-0.024[rad], vx=+5.025[m/s], vy=-0.312[m/s], steer= -0.39[rad], accel= +1.36[m/s^2]\n",
      "Time: 0.25[s], x=+1.252[m], y=+4.948[m], yaw=-0.041[rad], vx=+5.049[m/s], vy=-0.371[m/s], steer= -0.45[rad], accel= +1.42[m/s^2]\n",
      "Time: 0.30[s], x=+1.503[m], y=+4.920[m], yaw=-0.061[rad], vx=+5.065[m/s], vy=-0.426[m/s], steer= -0.33[rad], accel= +1.64[m/s^2]\n",
      "Time: 0.35[s], x=+1.755[m], y=+4.883[m], yaw=-0.086[rad], vx=+5.134[m/s], vy=-0.405[m/s], steer= -0.25[rad], accel= +1.72[m/s^2]\n",
      "Time: 0.40[s], x=+2.009[m], y=+4.841[m], yaw=-0.111[rad], vx=+5.223[m/s], vy=-0.346[m/s], steer= -0.29[rad], accel= +1.79[m/s^2]\n",
      "Time: 0.45[s], x=+2.266[m], y=+4.795[m], yaw=-0.136[rad], vx=+5.305[m/s], vy=-0.317[m/s], steer= -0.25[rad], accel= +1.98[m/s^2]\n",
      "Time: 0.50[s], x=+2.527[m], y=+4.743[m], yaw=-0.161[rad], vx=+5.401[m/s], vy=-0.276[m/s], steer= -0.26[rad], accel= +1.83[m/s^2]\n",
      "Time: 0.55[s], x=+2.791[m], y=+4.686[m], yaw=-0.186[rad], vx=+5.485[m/s], vy=-0.246[m/s], steer= -0.36[rad], accel= +1.94[m/s^2]\n",
      "Time: 0.60[s], x=+3.059[m], y=+4.623[m], yaw=-0.210[rad], vx=+5.550[m/s], vy=-0.266[m/s], steer= -0.26[rad], accel= +2.00[m/s^2]\n",
      "Time: 0.65[s], x=+3.327[m], y=+4.552[m], yaw=-0.236[rad], vx=+5.642[m/s], vy=-0.231[m/s], steer= -0.28[rad], accel= +2.00[m/s^2]\n",
      "Time: 0.70[s], x=+3.599[m], y=+4.475[m], yaw=-0.262[rad], vx=+5.728[m/s], vy=-0.211[m/s], steer= -0.19[rad], accel= +2.00[m/s^2]\n",
      "Time: 0.75[s], x=+3.873[m], y=+4.391[m], yaw=-0.288[rad], vx=+5.828[m/s], vy=-0.147[m/s], steer= -0.08[rad], accel= +2.00[m/s^2]\n",
      "Time: 0.80[s], x=+4.150[m], y=+4.301[m], yaw=-0.312[rad], vx=+5.933[m/s], vy=-0.044[m/s], steer= -0.10[rad], accel= +2.00[m/s^2]\n",
      "Time: 0.85[s], x=+4.432[m], y=+4.208[m], yaw=-0.332[rad], vx=+6.033[m/s], vy=+0.013[m/s], steer= -0.17[rad], accel= +2.00[m/s^2]\n",
      "Time: 0.90[s], x=+4.717[m], y=+4.110[m], yaw=-0.350[rad], vx=+6.124[m/s], vy=+0.018[m/s], steer= -0.22[rad], accel= +1.99[m/s^2]\n",
      "Time: 0.95[s], x=+5.005[m], y=+4.006[m], yaw=-0.367[rad], vx=+6.206[m/s], vy=-0.003[m/s], steer= -0.38[rad], accel= +2.00[m/s^2]\n",
      "Time: 1.00[s], x=+5.295[m], y=+3.895[m], yaw=-0.385[rad], vx=+6.246[m/s], vy=-0.089[m/s], steer= -0.41[rad], accel= +2.00[m/s^2]\n",
      "Time: 1.05[s], x=+5.582[m], y=+3.774[m], yaw=-0.406[rad], vx=+6.283[m/s], vy=-0.152[m/s], steer= -0.25[rad], accel= +2.00[m/s^2]\n",
      "Time: 1.10[s], x=+5.868[m], y=+3.642[m], yaw=-0.432[rad], vx=+6.370[m/s], vy=-0.117[m/s], steer= -0.33[rad], accel= +2.00[m/s^2]\n",
      "Time: 1.15[s], x=+6.155[m], y=+3.504[m], yaw=-0.457[rad], vx=+6.437[m/s], vy=-0.119[m/s], steer= -0.22[rad], accel= +1.98[m/s^2]\n",
      "Time: 1.20[s], x=+6.441[m], y=+3.357[m], yaw=-0.483[rad], vx=+6.526[m/s], vy=-0.064[m/s], steer= -0.36[rad], accel= +2.00[m/s^2]\n",
      "Time: 1.25[s], x=+6.728[m], y=+3.202[m], yaw=-0.509[rad], vx=+6.581[m/s], vy=-0.080[m/s], steer= -0.35[rad], accel= +2.00[m/s^2]\n",
      "Time: 1.30[s], x=+7.014[m], y=+3.038[m], yaw=-0.537[rad], vx=+6.642[m/s], vy=-0.076[m/s], steer= -0.38[rad], accel= +1.99[m/s^2]\n",
      "Time: 1.35[s], x=+7.297[m], y=+2.865[m], yaw=-0.566[rad], vx=+6.694[m/s], vy=-0.075[m/s], steer= -0.24[rad], accel= +1.98[m/s^2]\n",
      "Time: 1.40[s], x=+7.578[m], y=+2.682[m], yaw=-0.597[rad], vx=+6.779[m/s], vy=-0.004[m/s], steer= -0.21[rad], accel= +1.96[m/s^2]\n",
      "Time: 1.45[s], x=+7.858[m], y=+2.491[m], yaw=-0.627[rad], vx=+6.865[m/s], vy=+0.067[m/s], steer= -0.05[rad], accel= +1.93[m/s^2]\n",
      "Time: 1.50[s], x=+8.138[m], y=+2.293[m], yaw=-0.655[rad], vx=+6.960[m/s], vy=+0.202[m/s], steer= -0.08[rad], accel= +1.92[m/s^2]\n",
      "Time: 1.55[s], x=+8.420[m], y=+2.088[m], yaw=-0.679[rad], vx=+7.050[m/s], vy=+0.277[m/s], steer= -0.04[rad], accel= +1.93[m/s^2]\n",
      "Time: 1.60[s], x=+8.703[m], y=+1.878[m], yaw=-0.699[rad], vx=+7.140[m/s], vy=+0.342[m/s], steer= -0.13[rad], accel= +1.92[m/s^2]\n",
      "Time: 1.65[s], x=+8.987[m], y=+1.661[m], yaw=-0.716[rad], vx=+7.222[m/s], vy=+0.334[m/s], steer= -0.17[rad], accel= +1.85[m/s^2]\n",
      "Time: 1.70[s], x=+9.270[m], y=+1.437[m], yaw=-0.732[rad], vx=+7.295[m/s], vy=+0.308[m/s], steer= +0.09[rad], accel= +1.83[m/s^2]\n",
      "Time: 1.75[s], x=+9.552[m], y=+1.204[m], yaw=-0.748[rad], vx=+7.377[m/s], vy=+0.416[m/s], steer= -0.03[rad], accel= +1.76[m/s^2]\n",
      "Time: 1.80[s], x=+9.836[m], y=+0.968[m], yaw=-0.759[rad], vx=+7.460[m/s], vy=+0.411[m/s], steer= +0.18[rad], accel= +1.74[m/s^2]\n",
      "Time: 1.85[s], x=+10.121[m], y=+0.727[m], yaw=-0.767[rad], vx=+7.531[m/s], vy=+0.499[m/s], steer= +0.11[rad], accel= +1.70[m/s^2]\n",
      "Time: 1.90[s], x=+10.409[m], y=+0.483[m], yaw=-0.770[rad], vx=+7.611[m/s], vy=+0.504[m/s], steer= +0.15[rad], accel= +1.68[m/s^2]\n",
      "Time: 1.95[s], x=+10.700[m], y=+0.237[m], yaw=-0.769[rad], vx=+7.690[m/s], vy=+0.504[m/s], steer= +0.15[rad], accel= +1.62[m/s^2]\n",
      "Time: 2.00[s], x=+10.994[m], y=-0.013[m], yaw=-0.765[rad], vx=+7.768[m/s], vy=+0.479[m/s], steer= +0.11[rad], accel= +1.57[m/s^2]\n",
      "Time: 2.05[s], x=+11.291[m], y=-0.264[m], yaw=-0.757[rad], vx=+7.848[m/s], vy=+0.421[m/s], steer= +0.16[rad], accel= +1.48[m/s^2]\n",
      "Time: 2.10[s], x=+11.591[m], y=-0.519[m], yaw=-0.748[rad], vx=+7.920[m/s], vy=+0.379[m/s], steer= +0.14[rad], accel= +1.42[m/s^2]\n",
      "Time: 2.15[s], x=+11.894[m], y=-0.774[m], yaw=-0.736[rad], vx=+7.991[m/s], vy=+0.315[m/s], steer= +0.15[rad], accel= +1.23[m/s^2]\n",
      "Time: 2.20[s], x=+12.200[m], y=-1.031[m], yaw=-0.723[rad], vx=+8.051[m/s], vy=+0.253[m/s], steer= +0.06[rad], accel= +1.20[m/s^2]\n",
      "Time: 2.25[s], x=+12.511[m], y=-1.287[m], yaw=-0.709[rad], vx=+8.114[m/s], vy=+0.146[m/s], steer= +0.14[rad], accel= +1.03[m/s^2]\n",
      "Time: 2.30[s], x=+12.823[m], y=-1.546[m], yaw=-0.695[rad], vx=+8.162[m/s], vy=+0.096[m/s], steer= +0.01[rad], accel= +0.98[m/s^2]\n",
      "Time: 2.35[s], x=+13.140[m], y=-1.804[m], yaw=-0.681[rad], vx=+8.213[m/s], vy=-0.021[m/s], steer= +0.11[rad], accel= +1.13[m/s^2]\n",
      "Time: 2.40[s], x=+13.458[m], y=-2.063[m], yaw=-0.668[rad], vx=+8.265[m/s], vy=-0.054[m/s], steer= +0.06[rad], accel= +0.97[m/s^2]\n",
      "Time: 2.45[s], x=+13.781[m], y=-2.321[m], yaw=-0.656[rad], vx=+8.312[m/s], vy=-0.114[m/s], steer= -0.02[rad], accel= +0.72[m/s^2]\n",
      "Time: 2.50[s], x=+14.107[m], y=-2.579[m], yaw=-0.644[rad], vx=+8.346[m/s], vy=-0.197[m/s], steer= +0.04[rad], accel= +0.77[m/s^2]\n",
      "Time: 2.55[s], x=+14.434[m], y=-2.838[m], yaw=-0.635[rad], vx=+8.382[m/s], vy=-0.224[m/s], steer= +0.03[rad], accel= +0.75[m/s^2]\n",
      "Time: 2.60[s], x=+14.765[m], y=-3.095[m], yaw=-0.627[rad], vx=+8.417[m/s], vy=-0.243[m/s], steer= +0.13[rad], accel= +0.70[m/s^2]\n",
      "Time: 2.65[s], x=+15.099[m], y=-3.352[m], yaw=-0.620[rad], vx=+8.442[m/s], vy=-0.204[m/s], steer= +0.11[rad], accel= +0.80[m/s^2]\n",
      "Time: 2.70[s], x=+15.437[m], y=-3.606[m], yaw=-0.612[rad], vx=+8.474[m/s], vy=-0.191[m/s], steer= +0.23[rad], accel= +0.97[m/s^2]\n",
      "Time: 2.75[s], x=+15.778[m], y=-3.857[m], yaw=-0.603[rad], vx=+8.495[m/s], vy=-0.126[m/s], steer= +0.31[rad], accel= +0.98[m/s^2]\n",
      "Time: 2.80[s], x=+16.124[m], y=-4.103[m], yaw=-0.591[rad], vx=+8.498[m/s], vy=-0.056[m/s], steer= +0.23[rad], accel= +0.96[m/s^2]\n",
      "Time: 2.85[s], x=+16.476[m], y=-4.342[m], yaw=-0.574[rad], vx=+8.523[m/s], vy=-0.063[m/s], steer= +0.16[rad], accel= +0.80[m/s^2]\n",
      "Time: 2.90[s], x=+16.832[m], y=-4.576[m], yaw=-0.556[rad], vx=+8.553[m/s], vy=-0.120[m/s], steer= +0.14[rad], accel= +0.69[m/s^2]\n",
      "Time: 2.95[s], x=+17.192[m], y=-4.807[m], yaw=-0.538[rad], vx=+8.577[m/s], vy=-0.180[m/s], steer= +0.15[rad], accel= +0.58[m/s^2]\n",
      "Time: 3.00[s], x=+17.555[m], y=-5.034[m], yaw=-0.520[rad], vx=+8.594[m/s], vy=-0.228[m/s], steer= +0.03[rad], accel= +0.42[m/s^2]\n",
      "Time: 3.05[s], x=+17.923[m], y=-5.257[m], yaw=-0.501[rad], vx=+8.611[m/s], vy=-0.327[m/s], steer= -0.10[rad], accel= +0.45[m/s^2]\n",
      "Time: 3.10[s], x=+18.293[m], y=-5.478[m], yaw=-0.485[rad], vx=+8.623[m/s], vy=-0.460[m/s], steer= -0.04[rad], accel= +0.40[m/s^2]\n",
      "Time: 3.15[s], x=+18.663[m], y=-5.700[m], yaw=-0.475[rad], vx=+8.638[m/s], vy=-0.508[m/s], steer= +0.08[rad], accel= +0.35[m/s^2]\n",
      "Time: 3.20[s], x=+19.036[m], y=-5.920[m], yaw=-0.467[rad], vx=+8.647[m/s], vy=-0.465[m/s], steer= +0.05[rad], accel= +0.46[m/s^2]\n",
      "Time: 3.25[s], x=+19.411[m], y=-6.135[m], yaw=-0.459[rad], vx=+8.664[m/s], vy=-0.440[m/s], steer= +0.11[rad], accel= +0.28[m/s^2]\n",
      "Time: 3.30[s], x=+19.790[m], y=-6.347[m], yaw=-0.452[rad], vx=+8.667[m/s], vy=-0.387[m/s], steer= +0.17[rad], accel= -0.03[m/s^2]\n",
      "Time: 3.35[s], x=+20.171[m], y=-6.554[m], yaw=-0.445[rad], vx=+8.646[m/s], vy=-0.314[m/s], steer= +0.31[rad], accel= -0.07[m/s^2]\n",
      "Time: 3.40[s], x=+20.555[m], y=-6.754[m], yaw=-0.435[rad], vx=+8.590[m/s], vy=-0.201[m/s], steer= +0.39[rad], accel= +0.14[m/s^2]\n",
      "Time: 3.45[s], x=+20.940[m], y=-6.944[m], yaw=-0.422[rad], vx=+8.523[m/s], vy=-0.103[m/s], steer= +0.37[rad], accel= +0.19[m/s^2]\n",
      "Time: 3.50[s], x=+21.327[m], y=-7.123[m], yaw=-0.403[rad], vx=+8.471[m/s], vy=-0.066[m/s], steer= +0.41[rad], accel= +0.45[m/s^2]\n",
      "Time: 3.55[s], x=+21.715[m], y=-7.292[m], yaw=-0.380[rad], vx=+8.420[m/s], vy=-0.047[m/s], steer= +0.40[rad], accel= +0.46[m/s^2]\n",
      "Time: 3.60[s], x=+22.105[m], y=-7.451[m], yaw=-0.352[rad], vx=+8.378[m/s], vy=-0.067[m/s], steer= +0.36[rad], accel= +0.59[m/s^2]\n",
      "Time: 3.65[s], x=+22.497[m], y=-7.598[m], yaw=-0.322[rad], vx=+8.356[m/s], vy=-0.125[m/s], steer= +0.25[rad], accel= +0.39[m/s^2]\n",
      "Time: 3.70[s], x=+22.892[m], y=-7.736[m], yaw=-0.289[rad], vx=+8.350[m/s], vy=-0.239[m/s], steer= +0.28[rad], accel= +0.31[m/s^2]\n",
      "Time: 3.75[s], x=+23.288[m], y=-7.867[m], yaw=-0.257[rad], vx=+8.327[m/s], vy=-0.319[m/s], steer= +0.26[rad], accel= +0.26[m/s^2]\n",
      "Time: 3.80[s], x=+23.687[m], y=-7.988[m], yaw=-0.224[rad], vx=+8.302[m/s], vy=-0.397[m/s], steer= +0.27[rad], accel= +0.21[m/s^2]\n",
      "Time: 3.85[s], x=+24.087[m], y=-8.100[m], yaw=-0.192[rad], vx=+8.269[m/s], vy=-0.458[m/s], steer= +0.14[rad], accel= +0.30[m/s^2]\n",
      "Time: 3.90[s], x=+24.489[m], y=-8.201[m], yaw=-0.161[rad], vx=+8.262[m/s], vy=-0.568[m/s], steer= +0.07[rad], accel= +0.28[m/s^2]\n",
      "Time: 3.95[s], x=+24.892[m], y=-8.295[m], yaw=-0.132[rad], vx=+8.258[m/s], vy=-0.677[m/s], steer= +0.06[rad], accel= +0.39[m/s^2]\n",
      "Time: 4.00[s], x=+25.297[m], y=-8.383[m], yaw=-0.107[rad], vx=+8.258[m/s], vy=-0.744[m/s], steer= +0.03[rad], accel= +0.38[m/s^2]\n",
      "Time: 4.05[s], x=+25.703[m], y=-8.465[m], yaw=-0.086[rad], vx=+8.260[m/s], vy=-0.790[m/s], steer= +0.13[rad], accel= +0.36[m/s^2]\n",
      "Time: 4.10[s], x=+26.111[m], y=-8.540[m], yaw=-0.069[rad], vx=+8.253[m/s], vy=-0.754[m/s], steer= +0.09[rad], accel= +0.40[m/s^2]\n",
      "Time: 4.15[s], x=+26.520[m], y=-8.606[m], yaw=-0.053[rad], vx=+8.255[m/s], vy=-0.729[m/s], steer= +0.12[rad], accel= +0.44[m/s^2]\n",
      "Time: 4.20[s], x=+26.931[m], y=-8.664[m], yaw=-0.039[rad], vx=+8.255[m/s], vy=-0.679[m/s], steer= +0.13[rad], accel= +0.35[m/s^2]\n",
      "Time: 4.25[s], x=+27.342[m], y=-8.714[m], yaw=-0.026[rad], vx=+8.252[m/s], vy=-0.627[m/s], steer= +0.11[rad], accel= +0.57[m/s^2]\n",
      "Time: 4.30[s], x=+27.753[m], y=-8.756[m], yaw=-0.013[rad], vx=+8.265[m/s], vy=-0.590[m/s], steer= +0.10[rad], accel= +0.62[m/s^2]\n",
      "Time: 4.35[s], x=+28.166[m], y=-8.791[m], yaw=-0.001[rad], vx=+8.281[m/s], vy=-0.556[m/s], steer= +0.09[rad], accel= +0.74[m/s^2]\n",
      "Time: 4.40[s], x=+28.580[m], y=-8.819[m], yaw=+0.011[rad], vx=+8.306[m/s], vy=-0.529[m/s], steer= +0.11[rad], accel= +0.64[m/s^2]\n",
      "Time: 4.45[s], x=+28.996[m], y=-8.841[m], yaw=+0.021[rad], vx=+8.324[m/s], vy=-0.486[m/s], steer= +0.16[rad], accel= +0.48[m/s^2]\n",
      "Time: 4.50[s], x=+29.412[m], y=-8.857[m], yaw=+0.032[rad], vx=+8.328[m/s], vy=-0.425[m/s], steer= +0.20[rad], accel= +0.45[m/s^2]\n",
      "Time: 4.55[s], x=+29.829[m], y=-8.865[m], yaw=+0.044[rad], vx=+8.323[m/s], vy=-0.360[m/s], steer= +0.20[rad], accel= +0.51[m/s^2]\n",
      "Time: 4.60[s], x=+30.246[m], y=-8.864[m], yaw=+0.057[rad], vx=+8.324[m/s], vy=-0.317[m/s], steer= +0.26[rad], accel= +0.46[m/s^2]\n",
      "Time: 4.65[s], x=+30.662[m], y=-8.857[m], yaw=+0.071[rad], vx=+8.307[m/s], vy=-0.260[m/s], steer= +0.21[rad], accel= +0.59[m/s^2]\n",
      "Time: 4.70[s], x=+31.077[m], y=-8.840[m], yaw=+0.089[rad], vx=+8.312[m/s], vy=-0.256[m/s], steer= +0.17[rad], accel= +0.59[m/s^2]\n",
      "Time: 4.75[s], x=+31.493[m], y=-8.816[m], yaw=+0.107[rad], vx=+8.324[m/s], vy=-0.278[m/s], steer= +0.19[rad], accel= +0.61[m/s^2]\n",
      "Time: 4.80[s], x=+31.908[m], y=-8.785[m], yaw=+0.126[rad], vx=+8.333[m/s], vy=-0.292[m/s], steer= +0.23[rad], accel= +0.59[m/s^2]\n",
      "Time: 4.85[s], x=+32.323[m], y=-8.748[m], yaw=+0.145[rad], vx=+8.333[m/s], vy=-0.288[m/s], steer= +0.28[rad], accel= +0.53[m/s^2]\n",
      "Time: 4.90[s], x=+32.737[m], y=-8.702[m], yaw=+0.165[rad], vx=+8.316[m/s], vy=-0.269[m/s], steer= +0.29[rad], accel= +0.65[m/s^2]\n",
      "Time: 4.95[s], x=+33.150[m], y=-8.647[m], yaw=+0.187[rad], vx=+8.306[m/s], vy=-0.265[m/s], steer= +0.36[rad], accel= +0.65[m/s^2]\n",
      "Time: 5.00[s], x=+33.560[m], y=-8.583[m], yaw=+0.211[rad], vx=+8.273[m/s], vy=-0.243[m/s], steer= +0.39[rad], accel= +0.74[m/s^2]\n",
      "Time: 5.05[s], x=+33.967[m], y=-8.508[m], yaw=+0.238[rad], vx=+8.238[m/s], vy=-0.236[m/s], steer= +0.36[rad], accel= +0.69[m/s^2]\n",
      "Time: 5.10[s], x=+34.370[m], y=-8.422[m], yaw=+0.268[rad], vx=+8.212[m/s], vy=-0.262[m/s], steer= +0.38[rad], accel= +0.80[m/s^2]\n",
      "Time: 5.15[s], x=+34.770[m], y=-8.326[m], yaw=+0.300[rad], vx=+8.182[m/s], vy=-0.287[m/s], steer= +0.44[rad], accel= +0.76[m/s^2]\n",
      "Time: 5.20[s], x=+35.165[m], y=-8.219[m], yaw=+0.334[rad], vx=+8.129[m/s], vy=-0.300[m/s], steer= +0.46[rad], accel= +0.71[m/s^2]\n",
      "Time: 5.25[s], x=+35.554[m], y=-8.100[m], yaw=+0.370[rad], vx=+8.063[m/s], vy=-0.318[m/s], steer= +0.45[rad], accel= +0.75[m/s^2]\n",
      "Time: 5.30[s], x=+35.935[m], y=-7.969[m], yaw=+0.408[rad], vx=+8.006[m/s], vy=-0.355[m/s], steer= +0.43[rad], accel= +0.72[m/s^2]\n",
      "Time: 5.35[s], x=+36.310[m], y=-7.826[m], yaw=+0.448[rad], vx=+7.954[m/s], vy=-0.404[m/s], steer= +0.40[rad], accel= +0.89[m/s^2]\n",
      "Time: 5.40[s], x=+36.677[m], y=-7.672[m], yaw=+0.490[rad], vx=+7.917[m/s], vy=-0.462[m/s], steer= +0.41[rad], accel= +0.85[m/s^2]\n",
      "Time: 5.45[s], x=+37.037[m], y=-7.506[m], yaw=+0.531[rad], vx=+7.870[m/s], vy=-0.507[m/s], steer= +0.41[rad], accel= +0.90[m/s^2]\n",
      "Time: 5.50[s], x=+37.389[m], y=-7.329[m], yaw=+0.573[rad], vx=+7.823[m/s], vy=-0.546[m/s], steer= +0.41[rad], accel= +0.85[m/s^2]\n",
      "Time: 5.55[s], x=+37.733[m], y=-7.140[m], yaw=+0.614[rad], vx=+7.771[m/s], vy=-0.578[m/s], steer= +0.36[rad], accel= +0.88[m/s^2]\n",
      "Time: 5.60[s], x=+38.067[m], y=-6.940[m], yaw=+0.656[rad], vx=+7.735[m/s], vy=-0.622[m/s], steer= +0.34[rad], accel= +0.82[m/s^2]\n",
      "Time: 5.65[s], x=+38.393[m], y=-6.728[m], yaw=+0.697[rad], vx=+7.701[m/s], vy=-0.661[m/s], steer= +0.34[rad], accel= +1.01[m/s^2]\n",
      "Time: 5.70[s], x=+38.709[m], y=-6.507[m], yaw=+0.736[rad], vx=+7.671[m/s], vy=-0.681[m/s], steer= +0.34[rad], accel= +1.03[m/s^2]\n",
      "Time: 5.75[s], x=+39.016[m], y=-6.275[m], yaw=+0.774[rad], vx=+7.644[m/s], vy=-0.692[m/s], steer= +0.36[rad], accel= +1.11[m/s^2]\n",
      "Time: 5.80[s], x=+39.314[m], y=-6.032[m], yaw=+0.811[rad], vx=+7.611[m/s], vy=-0.683[m/s], steer= +0.36[rad], accel= +1.20[m/s^2]\n",
      "Time: 5.85[s], x=+39.601[m], y=-5.780[m], yaw=+0.848[rad], vx=+7.584[m/s], vy=-0.671[m/s], steer= +0.36[rad], accel= +1.16[m/s^2]\n",
      "Time: 5.90[s], x=+39.877[m], y=-5.517[m], yaw=+0.884[rad], vx=+7.557[m/s], vy=-0.657[m/s], steer= +0.35[rad], accel= +1.20[m/s^2]\n",
      "Time: 5.95[s], x=+40.141[m], y=-5.246[m], yaw=+0.920[rad], vx=+7.537[m/s], vy=-0.648[m/s], steer= +0.34[rad], accel= +1.29[m/s^2]\n",
      "Time: 6.00[s], x=+40.395[m], y=-4.966[m], yaw=+0.956[rad], vx=+7.525[m/s], vy=-0.638[m/s], steer= +0.36[rad], accel= +1.27[m/s^2]\n",
      "Time: 6.05[s], x=+40.639[m], y=-4.677[m], yaw=+0.991[rad], vx=+7.506[m/s], vy=-0.616[m/s], steer= +0.34[rad], accel= +1.45[m/s^2]\n",
      "Time: 6.10[s], x=+40.870[m], y=-4.380[m], yaw=+1.025[rad], vx=+7.504[m/s], vy=-0.604[m/s], steer= +0.33[rad], accel= +1.41[m/s^2]\n",
      "Time: 6.15[s], x=+41.091[m], y=-4.075[m], yaw=+1.059[rad], vx=+7.501[m/s], vy=-0.593[m/s], steer= +0.33[rad], accel= +1.36[m/s^2]\n",
      "Time: 6.20[s], x=+41.300[m], y=-3.762[m], yaw=+1.093[rad], vx=+7.498[m/s], vy=-0.581[m/s], steer= +0.30[rad], accel= +1.35[m/s^2]\n",
      "Time: 6.25[s], x=+41.498[m], y=-3.442[m], yaw=+1.127[rad], vx=+7.504[m/s], vy=-0.581[m/s], steer= +0.25[rad], accel= +1.33[m/s^2]\n",
      "Time: 6.30[s], x=+41.685[m], y=-3.116[m], yaw=+1.159[rad], vx=+7.524[m/s], vy=-0.601[m/s], steer= +0.22[rad], accel= +1.34[m/s^2]\n",
      "Time: 6.35[s], x=+41.864[m], y=-2.783[m], yaw=+1.190[rad], vx=+7.550[m/s], vy=-0.620[m/s], steer= +0.18[rad], accel= +1.22[m/s^2]\n",
      "Time: 6.40[s], x=+42.033[m], y=-2.445[m], yaw=+1.219[rad], vx=+7.576[m/s], vy=-0.640[m/s], steer= +0.15[rad], accel= +1.17[m/s^2]\n",
      "Time: 6.45[s], x=+42.193[m], y=-2.100[m], yaw=+1.245[rad], vx=+7.606[m/s], vy=-0.657[m/s], steer= +0.11[rad], accel= +1.23[m/s^2]\n",
      "Time: 6.50[s], x=+42.346[m], y=-1.750[m], yaw=+1.269[rad], vx=+7.644[m/s], vy=-0.675[m/s], steer= +0.04[rad], accel= +1.22[m/s^2]\n",
      "Time: 6.55[s], x=+42.492[m], y=-1.395[m], yaw=+1.290[rad], vx=+7.689[m/s], vy=-0.705[m/s], steer= +0.01[rad], accel= +1.23[m/s^2]\n",
      "Time: 6.60[s], x=+42.632[m], y=-1.036[m], yaw=+1.307[rad], vx=+7.738[m/s], vy=-0.723[m/s], steer= +0.02[rad], accel= +1.28[m/s^2]\n",
      "Time: 6.65[s], x=+42.768[m], y=-0.672[m], yaw=+1.321[rad], vx=+7.790[m/s], vy=-0.707[m/s], steer= +0.07[rad], accel= +1.24[m/s^2]\n",
      "Time: 6.70[s], x=+42.899[m], y=-0.303[m], yaw=+1.331[rad], vx=+7.840[m/s], vy=-0.650[m/s], steer= -0.01[rad], accel= +1.16[m/s^2]\n",
      "Time: 6.75[s], x=+43.023[m], y=+0.070[m], yaw=+1.340[rad], vx=+7.892[m/s], vy=-0.632[m/s], steer= +0.01[rad], accel= +1.08[m/s^2]\n",
      "Time: 6.80[s], x=+43.144[m], y=+0.447[m], yaw=+1.347[rad], vx=+7.941[m/s], vy=-0.589[m/s], steer= +0.02[rad], accel= +1.08[m/s^2]\n",
      "Time: 6.85[s], x=+43.261[m], y=+0.828[m], yaw=+1.352[rad], vx=+7.992[m/s], vy=-0.537[m/s], steer= +0.07[rad], accel= +1.12[m/s^2]\n",
      "Time: 6.90[s], x=+43.374[m], y=+1.212[m], yaw=+1.355[rad], vx=+8.041[m/s], vy=-0.457[m/s], steer= +0.06[rad], accel= +1.15[m/s^2]\n",
      "Time: 6.95[s], x=+43.483[m], y=+1.600[m], yaw=+1.359[rad], vx=+8.094[m/s], vy=-0.394[m/s], steer= +0.11[rad], accel= +1.02[m/s^2]\n",
      "Time: 7.00[s], x=+43.587[m], y=+1.991[m], yaw=+1.362[rad], vx=+8.134[m/s], vy=-0.314[m/s], steer= +0.08[rad], accel= +1.00[m/s^2]\n",
      "Time: 7.05[s], x=+43.687[m], y=+2.386[m], yaw=+1.367[rad], vx=+8.178[m/s], vy=-0.267[m/s], steer= +0.07[rad], accel= +0.98[m/s^2]\n",
      "Time: 7.10[s], x=+43.783[m], y=+2.783[m], yaw=+1.372[rad], vx=+8.222[m/s], vy=-0.237[m/s], steer= +0.05[rad], accel= +0.83[m/s^2]\n",
      "Time: 7.15[s], x=+43.875[m], y=+3.184[m], yaw=+1.378[rad], vx=+8.261[m/s], vy=-0.222[m/s], steer= +0.03[rad], accel= +0.71[m/s^2]\n",
      "Time: 7.20[s], x=+43.965[m], y=+3.587[m], yaw=+1.383[rad], vx=+8.295[m/s], vy=-0.221[m/s], steer= +0.04[rad], accel= +0.77[m/s^2]\n",
      "Time: 7.25[s], x=+44.053[m], y=+3.993[m], yaw=+1.388[rad], vx=+8.330[m/s], vy=-0.208[m/s], steer= +0.10[rad], accel= +0.65[m/s^2]\n",
      "Time: 7.30[s], x=+44.139[m], y=+4.401[m], yaw=+1.393[rad], vx=+8.357[m/s], vy=-0.168[m/s], steer= +0.05[rad], accel= +0.60[m/s^2]\n",
      "Time: 7.35[s], x=+44.221[m], y=+4.810[m], yaw=+1.399[rad], vx=+8.384[m/s], vy=-0.163[m/s], steer= +0.02[rad], accel= +0.57[m/s^2]\n",
      "Time: 7.40[s], x=+44.301[m], y=+5.222[m], yaw=+1.405[rad], vx=+8.411[m/s], vy=-0.176[m/s], steer= +0.05[rad], accel= +0.59[m/s^2]\n",
      "Time: 7.45[s], x=+44.379[m], y=+5.635[m], yaw=+1.410[rad], vx=+8.438[m/s], vy=-0.165[m/s], steer= -0.02[rad], accel= +0.56[m/s^2]\n",
      "Time: 7.50[s], x=+44.455[m], y=+6.050[m], yaw=+1.415[rad], vx=+8.465[m/s], vy=-0.192[m/s], steer= -0.06[rad], accel= +0.54[m/s^2]\n",
      "Time: 7.55[s], x=+44.530[m], y=+6.467[m], yaw=+1.418[rad], vx=+8.490[m/s], vy=-0.227[m/s], steer= +0.06[rad], accel= +0.57[m/s^2]\n",
      "Time: 7.60[s], x=+44.606[m], y=+6.885[m], yaw=+1.420[rad], vx=+8.516[m/s], vy=-0.181[m/s], steer= +0.07[rad], accel= +0.42[m/s^2]\n",
      "Time: 7.65[s], x=+44.679[m], y=+7.304[m], yaw=+1.422[rad], vx=+8.533[m/s], vy=-0.140[m/s], steer= -0.04[rad], accel= +0.51[m/s^2]\n",
      "Time: 7.70[s], x=+44.749[m], y=+7.725[m], yaw=+1.425[rad], vx=+8.557[m/s], vy=-0.167[m/s], steer= +0.04[rad], accel= +0.40[m/s^2]\n",
      "Time: 7.75[s], x=+44.819[m], y=+8.147[m], yaw=+1.427[rad], vx=+8.576[m/s], vy=-0.140[m/s], steer= +0.03[rad], accel= +0.53[m/s^2]\n",
      "Time: 7.80[s], x=+44.888[m], y=+8.571[m], yaw=+1.429[rad], vx=+8.602[m/s], vy=-0.126[m/s], steer= +0.03[rad], accel= +0.44[m/s^2]\n",
      "Time: 7.85[s], x=+44.955[m], y=+8.996[m], yaw=+1.431[rad], vx=+8.623[m/s], vy=-0.110[m/s], steer= +0.07[rad], accel= +0.30[m/s^2]\n",
      "Time: 7.90[s], x=+45.020[m], y=+9.422[m], yaw=+1.433[rad], vx=+8.635[m/s], vy=-0.076[m/s], steer= +0.08[rad], accel= +0.20[m/s^2]\n",
      "Time: 7.95[s], x=+45.083[m], y=+9.849[m], yaw=+1.437[rad], vx=+8.641[m/s], vy=-0.054[m/s], steer= +0.11[rad], accel= +0.18[m/s^2]\n",
      "Time: 8.00[s], x=+45.143[m], y=+10.277[m], yaw=+1.441[rad], vx=+8.644[m/s], vy=-0.024[m/s], steer= +0.16[rad], accel= +0.09[m/s^2]\n",
      "Time: 8.05[s], x=+45.201[m], y=+10.705[m], yaw=+1.447[rad], vx=+8.636[m/s], vy=+0.010[m/s], steer= +0.14[rad], accel= +0.09[m/s^2]\n",
      "Time: 8.10[s], x=+45.253[m], y=+11.134[m], yaw=+1.455[rad], vx=+8.632[m/s], vy=+0.014[m/s], steer= +0.11[rad], accel= +0.18[m/s^2]\n",
      "Time: 8.15[s], x=+45.303[m], y=+11.563[m], yaw=+1.465[rad], vx=+8.636[m/s], vy=-0.011[m/s], steer= +0.12[rad], accel= +0.20[m/s^2]\n",
      "Time: 8.20[s], x=+45.349[m], y=+11.992[m], yaw=+1.476[rad], vx=+8.640[m/s], vy=-0.036[m/s], steer= +0.06[rad], accel= +0.19[m/s^2]\n",
      "Time: 8.25[s], x=+45.391[m], y=+12.422[m], yaw=+1.488[rad], vx=+8.648[m/s], vy=-0.095[m/s], steer= +0.08[rad], accel= +0.10[m/s^2]\n",
      "Time: 8.30[s], x=+45.432[m], y=+12.852[m], yaw=+1.499[rad], vx=+8.649[m/s], vy=-0.132[m/s], steer= +0.11[rad], accel= +0.08[m/s^2]\n",
      "Time: 8.35[s], x=+45.469[m], y=+13.283[m], yaw=+1.510[rad], vx=+8.646[m/s], vy=-0.145[m/s], steer= +0.11[rad], accel= +0.12[m/s^2]\n",
      "Time: 8.40[s], x=+45.503[m], y=+13.714[m], yaw=+1.521[rad], vx=+8.645[m/s], vy=-0.161[m/s], steer= +0.16[rad], accel= +0.12[m/s^2]\n"
     ]
    }
   ],
   "source": [
    "# Dynamic \n",
    "##############################################################\n",
    "\n",
    "# simulation settings\n",
    "delta_t = 0.05 # [sec]\n",
    "sim_steps = 600 # [steps]\n",
    "print(f\"[INFO] delta_t : {delta_t:.2f}[s] , sim_steps : {sim_steps}[steps], total_sim_time : {delta_t*sim_steps:.2f}[s]\")\n",
    "\n",
    "# load and visualize reference path\n",
    "#plt.plot(c1[:, 0], c1[:, 1], linestyle='--')\n",
    "plt.plot(cones[:, 0], cones[:, 1],  marker='o', linestyle='None', markersize=2)\n",
    "#plt.plot(c2[:, 0], c2[:, 1], linestyle='--')\n",
    "plt.show()\n",
    "\n",
    "# initialize a vehicle as a control target\n",
    "vehicle = DBM_Vehicle(\n",
    "    delta_t = 0.05,\n",
    "    l_f = 1.1, # [m]\n",
    "    l_r = 1.4, # [m]\n",
    "    mass = 1000.0, # [kg]\n",
    "    I_z = 1300.0, # [kg*m^2]\n",
    "    C_f = 5000.0 * 2.0, # [N/rad]\n",
    "    C_r = 6000.0 * 2.0, # [N/rad]\n",
    "    max_steer_abs=0.523, # [rad]\n",
    "    max_accel_abs=2.000, # [m/s^2]\n",
    "    input_map = (c1, c2),\n",
    "    cones = cones,\n",
    ")\n",
    "\n",
    "vehicle.reset(\n",
    "    init_state = np.array([0.0, 5.0, 0.0, 5.0, 0.0, 0.0]), # [x[m], y[m], yaw[rad], vx[m/s], vy[m/s], omega[rad/s]]\n",
    ")\n",
    "vehicle_trajectory = np.array([vehicle.get_state()[:2]])\n",
    "\n",
    "# initialize a mppi controller for the vehicle\n",
    "mppi = MPPI_Dynamic(\n",
    "    delta_t = 0.05,\n",
    "    l_f = 1.1, # [m]\n",
    "    l_r = 1.4, # [m]\n",
    "    mass = 1000.0, # [kg]\n",
    "    I_z = 1300.0, # [kg*m^2]\n",
    "    C_f = 5000.0 * 2.0, # [N/rad]\n",
    "    C_r = 6000.0 * 2.0, # [N/rad]\n",
    "    max_steer_abs =  0.523, # [rad]\n",
    "    max_accel_abs = 2.000, # [m/s^2]\n",
    "    horizon_step_T = 80, # [steps]\n",
    "    number_of_samples_K = 600, # [samples]\n",
    "    param_exploration = 0.0,\n",
    "    param_lambda = 100.0,\n",
    "    param_alpha = 0.98,\n",
    "    sigma = np.array([[0.25, 0.0], [0.0, 1.0]]),\n",
    "    stage_cost_weight = np.array([200.0, 500.0, 1.0, 20.0]), # weight for [x, y, yaw, v]\n",
    "    terminal_cost_weight = np.array([200.0, 500.0, 1.0, 20.0]), # weight for [x, y, yaw, v]\n",
    "    visualze_sampled_trajs = True,\n",
    "    input_map = (c1, c2),\n",
    "    cones = cones\n",
    ")\n",
    "\n",
    "# simulation loop\n",
    "train_model_data = []\n",
    "state = []\n",
    "for i in range(sim_steps):\n",
    "\n",
    "    # get current state of vehicle\n",
    "    current_state = vehicle.get_state()\n",
    "    if(i > 0): train_model_data.append((action, prev_state, current_state))\n",
    "\n",
    "    # try:\n",
    "    #     # calculate input force with MPPI\n",
    "    #     optimal_input, optimal_input_sequence, optimal_traj, sampled_traj_list = mppi.calc_control_input(\n",
    "    #         observed_x = current_state\n",
    "    #     )\n",
    "    # except IndexError as e:\n",
    "    #     # the vehicle has reached the end of the reference path\n",
    "    #     print(\"[ERROR] IndexError detected. Terminate simulation.\")\n",
    "    #     break\n",
    "\n",
    "    # calculate input force with MPPI\n",
    "    optimal_input, optimal_input_sequence, optimal_traj, sampled_traj_list = mppi.calc_control_input(\n",
    "        observed_x = current_state\n",
    "    )\n",
    "    # print current state and input force\n",
    "    print(f\"Time: {i*delta_t:>2.2f}[s], x={current_state[0]:>+3.3f}[m], y={current_state[1]:>+3.3f}[m], yaw={current_state[2]:>+3.3f}[rad], vx={current_state[3]:>+3.3f}[m/s], vy={current_state[4]:>+3.3f}[m/s], steer={optimal_input[0]:>+6.2f}[rad], accel={optimal_input[1]:>+6.2f}[m/s^2]\")\n",
    "    \n",
    "    #if(current_state[0] > 24 or current_state[0] < -12): break\n",
    "    action = optimal_input\n",
    "    prev_state = current_state\n",
    "    # update states of vehicle\n",
    "    vehicle.update(u=optimal_input, delta_t=delta_t, vehicle_traj=vehicle_trajectory, optimal_traj=optimal_traj[:, 0:2], sampled_traj_list=sampled_traj_list[:, :, 0:2])\n",
    "    vehicle_trajectory = np.vstack((vehicle_trajectory, vehicle.get_state()[:2])) # record vehicle trajectory\n",
    "    state.append(current_state)\n",
    "# show animation\n",
    "#vehicle.show_animation(interval_ms=int(delta_t * 1000))\n",
    "    \n",
    "# save animation\n",
    "vehicle.save_animation(\"mppi_test_map3_large_T.mp4\", interval=int(delta_t * 1000), movie_writer=\"ffmpeg\") # ffmpeg is required to write mp4 file"
   ]
  },
  {
   "cell_type": "code",
   "execution_count": 56,
   "metadata": {},
   "outputs": [
    {
     "name": "stdout",
     "output_type": "stream",
     "text": [
      "Done.\n"
     ]
    }
   ],
   "source": [
    "vehicle.save_animation(\"mppi_test_map2_large_T.mp4\", interval=int(delta_t * 1000), movie_writer=\"ffmpeg\") # ffmpeg is required to write mp4 file"
   ]
  }
 ],
 "metadata": {
  "kernelspec": {
   "display_name": "base",
   "language": "python",
   "name": "python3"
  },
  "language_info": {
   "codemirror_mode": {
    "name": "ipython",
    "version": 3
   },
   "file_extension": ".py",
   "mimetype": "text/x-python",
   "name": "python",
   "nbconvert_exporter": "python",
   "pygments_lexer": "ipython3",
   "version": "3.9.12"
  }
 },
 "nbformat": 4,
 "nbformat_minor": 2
}
